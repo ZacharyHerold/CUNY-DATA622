{
 "cells": [
  {
   "cell_type": "markdown",
   "metadata": {},
   "source": [
    "## CUNY DATA622 - Zachary Herold\n",
    "\n",
    "### Part I. China B Share Index Replication using XGBRegressor()\n",
    "\n",
    "There is a small market of 49 USD-denominated Chinese equities, comprising approximately USD 24.2 billion in market capitalization (as of November 29, 2019), sparsely traded on the Shanghai Stock Exchange. Reflecting the price movements of these 'B-shares' is the SSE B Share Index (000003.SS)."
   ]
  },
  {
   "cell_type": "markdown",
   "metadata": {},
   "source": [
    "The SSE B Share Index construction methodology employs market-capitalization weighting and is outlined here:\n",
    "\n",
    "概要：上证B股指数的样本股是全部上市B股，反映了B股的股价整体变动状况，自1992年8月17日起正式发布。 \n",
    "基期及基点：1992.02.21 ＝100 指数计算：以样本股的发行股本数为权数进行加权计算，计算公式为：\n",
    "\n",
    "报告期指数 ＝ 报告期成份股的总市值 / 基期 × 基期指数；\n",
    "\n",
    "其中，总市值 = ∑(市价×发行股数)。 \n",
    "样本选择标准：上海证券交易所挂牌上市的全部B股股票。\n",
    "自20070106起，新股于上市第十一个交易日开始计入指数\n",
    "\n",
    "Source: http://vip.stock.finance.sina.com.cn/corp/go.php/vII_BasicInfo/indexid/000003.phtml"
   ]
  },
  {
   "cell_type": "markdown",
   "metadata": {},
   "source": [
    "To reconstitute the index, one must know both the base value of each individual stock component at the time of index inclusion, as well as the timing and quantity of each secondary public offering, dividend share offering, stock option exercise, and stock buyback. While this data may be publicly available, the index construction methodology is rather opaque and cumbersome.   \n",
    "\n",
    "Given the importance of having an effective market benchmark, the aim of this project is to replicate the SSE B Share Index from historial price and floating share data by performing feature selection with L1 regularization. "
   ]
  },
  {
   "cell_type": "code",
   "execution_count": 46,
   "metadata": {},
   "outputs": [],
   "source": [
    "#Importing packages\n",
    "import pandas as pd\n",
    "import numpy as np \n",
    "from numpy import sort\n",
    "import matplotlib.pyplot as plt\n",
    "from datetime import datetime as dt\n",
    "import re\n",
    "from sklearn.linear_model import LinearRegression, Lasso\n",
    "from sklearn.model_selection import train_test_split, cross_val_score, cross_val_predict, GridSearchCV, RandomizedSearchCV\n",
    "from sklearn.feature_selection import SelectFromModel\n",
    "from sklearn.metrics import mean_squared_error, r2_score, accuracy_score\n",
    "from sklearn.preprocessing import StandardScaler\n",
    "import xgboost as xgb\n",
    "from xgboost import XGBRegressor\n",
    "from xgboost import plot_importance\n",
    "\n",
    "# from sklearn import ensemble\n",
    "# from sklearn.ensemble import RandomForestRegressor\n",
    "# from sklearn.pipeline import Pipeline\n",
    "\n",
    "np.set_printoptions(precision=3, suppress=True)"
   ]
  },
  {
   "cell_type": "markdown",
   "metadata": {},
   "source": [
    "### Self-defined functions"
   ]
  },
  {
   "cell_type": "code",
   "execution_count": 2,
   "metadata": {},
   "outputs": [],
   "source": [
    "# We wish to construct a pivot table with all the individual stock prices and shares outstanding as \n",
    "# features. To do so, we create a function which first melts the data into long format, then uses \n",
    "# the pivot_table method to widen it. While doing so, we remove all zero values.  \n",
    "\n",
    "def create_pivot_table(data):\n",
    "    data = pd.melt(data, id_vars=['date','ticker'], var_name='metrics', value_name='value')\n",
    "    data['metric'] = data['ticker'].map(str) +'-'+ data['metrics']\n",
    "    data = data.drop(['ticker','metrics'], axis=1)\n",
    "    data = data[data.value != 0]\n",
    "    data = data.reset_index().pivot_table(index='date', columns='metric', values='value')\n",
    "    return data"
   ]
  },
  {
   "cell_type": "code",
   "execution_count": 3,
   "metadata": {},
   "outputs": [],
   "source": [
    "def draw_prediction_graph(p):\n",
    "    fig, ax = plt.subplots()\n",
    "    ax.scatter(y_test, p, edgecolors=(0, 0, 0))\n",
    "    ax.plot([y_test.min(), y_test.max()], [y_test.min(), y_test.max()], 'k--', lw=4)\n",
    "    ax.set_xlabel('Actual')\n",
    "    ax.set_ylabel('Predicted')\n",
    "    ax.set_title(\"Ground Truth vs Predicted\")\n",
    "    plt.show()"
   ]
  },
  {
   "cell_type": "markdown",
   "metadata": {},
   "source": [
    "### Historical data load, imputation, merge and conversion to pivot table"
   ]
  },
  {
   "cell_type": "code",
   "execution_count": 4,
   "metadata": {},
   "outputs": [],
   "source": [
    "# Loading 10-year historical and stock profile data collected by the author online from public sources.\n",
    "# The data was cleaned and exported from Postgresql separately. \n",
    "\n",
    "data_url1 = 'https://raw.githubusercontent.com/ZacharyHerold/CUNY-DATA622/master/FinalProject/bshare_sh_10yr'\n",
    "data_url2 = 'https://raw.githubusercontent.com/ZacharyHerold/CUNY-DATA622/master/FinalProject/stock_profile.csv'\n",
    "raw_data1 = pd.read_csv(data_url1, sep=';')\n",
    "raw_data2 = pd.read_csv(data_url2, sep=';')"
   ]
  },
  {
   "cell_type": "code",
   "execution_count": 5,
   "metadata": {},
   "outputs": [],
   "source": [
    "# We gather date, ticker, and closing price data, simplistically assuming that the shares outstanding has historically \n",
    "# been the same as the amount of record date (November 29, 2019).\n",
    "\n",
    "df_daily = raw_data1[['date','ticker','close']]\n",
    "df_profile = raw_data2[['ticker','shares_outstanding_b']]\n",
    "df = df_daily.merge(df_profile, on='ticker')\n",
    "df.columns = ['date','ticker','close','float']\n",
    "#df.head()"
   ]
  },
  {
   "cell_type": "code",
   "execution_count": 6,
   "metadata": {},
   "outputs": [
    {
     "data": {
      "text/html": [
       "<div>\n",
       "<style scoped>\n",
       "    .dataframe tbody tr th:only-of-type {\n",
       "        vertical-align: middle;\n",
       "    }\n",
       "\n",
       "    .dataframe tbody tr th {\n",
       "        vertical-align: top;\n",
       "    }\n",
       "\n",
       "    .dataframe thead th {\n",
       "        text-align: right;\n",
       "    }\n",
       "</style>\n",
       "<table border=\"1\" class=\"dataframe\">\n",
       "  <thead>\n",
       "    <tr style=\"text-align: right;\">\n",
       "      <th>metric</th>\n",
       "      <th>900901-close</th>\n",
       "      <th>900901-float</th>\n",
       "      <th>900902-close</th>\n",
       "      <th>900902-float</th>\n",
       "      <th>900903-close</th>\n",
       "      <th>900903-float</th>\n",
       "      <th>900904-close</th>\n",
       "      <th>900904-float</th>\n",
       "      <th>900905-close</th>\n",
       "      <th>900905-float</th>\n",
       "      <th>...</th>\n",
       "      <th>900952-close</th>\n",
       "      <th>900952-float</th>\n",
       "      <th>900953-close</th>\n",
       "      <th>900953-float</th>\n",
       "      <th>900955-close</th>\n",
       "      <th>900955-float</th>\n",
       "      <th>900956-close</th>\n",
       "      <th>900956-float</th>\n",
       "      <th>900957-close</th>\n",
       "      <th>900957-float</th>\n",
       "    </tr>\n",
       "    <tr>\n",
       "      <th>date</th>\n",
       "      <th></th>\n",
       "      <th></th>\n",
       "      <th></th>\n",
       "      <th></th>\n",
       "      <th></th>\n",
       "      <th></th>\n",
       "      <th></th>\n",
       "      <th></th>\n",
       "      <th></th>\n",
       "      <th></th>\n",
       "      <th></th>\n",
       "      <th></th>\n",
       "      <th></th>\n",
       "      <th></th>\n",
       "      <th></th>\n",
       "      <th></th>\n",
       "      <th></th>\n",
       "      <th></th>\n",
       "      <th></th>\n",
       "      <th></th>\n",
       "      <th></th>\n",
       "    </tr>\n",
       "  </thead>\n",
       "  <tbody>\n",
       "    <tr>\n",
       "      <td>2010-01-04</td>\n",
       "      <td>0.556</td>\n",
       "      <td>293.3705</td>\n",
       "      <td>0.443</td>\n",
       "      <td>465.85</td>\n",
       "      <td>0.816</td>\n",
       "      <td>800.8065</td>\n",
       "      <td>0.811</td>\n",
       "      <td>54.7517</td>\n",
       "      <td>1.915</td>\n",
       "      <td>206.0081</td>\n",
       "      <td>...</td>\n",
       "      <td>0.480</td>\n",
       "      <td>222.807</td>\n",
       "      <td>0.719</td>\n",
       "      <td>240.0</td>\n",
       "      <td>0.705</td>\n",
       "      <td>330.0</td>\n",
       "      <td>0.798</td>\n",
       "      <td>115.0</td>\n",
       "      <td>0.546</td>\n",
       "      <td>184.0</td>\n",
       "    </tr>\n",
       "    <tr>\n",
       "      <td>2010-01-05</td>\n",
       "      <td>0.563</td>\n",
       "      <td>293.3705</td>\n",
       "      <td>0.443</td>\n",
       "      <td>465.85</td>\n",
       "      <td>0.833</td>\n",
       "      <td>800.8065</td>\n",
       "      <td>0.813</td>\n",
       "      <td>54.7517</td>\n",
       "      <td>1.932</td>\n",
       "      <td>206.0081</td>\n",
       "      <td>...</td>\n",
       "      <td>0.485</td>\n",
       "      <td>222.807</td>\n",
       "      <td>0.739</td>\n",
       "      <td>240.0</td>\n",
       "      <td>0.695</td>\n",
       "      <td>330.0</td>\n",
       "      <td>0.810</td>\n",
       "      <td>115.0</td>\n",
       "      <td>0.542</td>\n",
       "      <td>184.0</td>\n",
       "    </tr>\n",
       "    <tr>\n",
       "      <td>2010-01-06</td>\n",
       "      <td>0.558</td>\n",
       "      <td>293.3705</td>\n",
       "      <td>0.441</td>\n",
       "      <td>465.85</td>\n",
       "      <td>0.824</td>\n",
       "      <td>800.8065</td>\n",
       "      <td>0.814</td>\n",
       "      <td>54.7517</td>\n",
       "      <td>1.918</td>\n",
       "      <td>206.0081</td>\n",
       "      <td>...</td>\n",
       "      <td>0.482</td>\n",
       "      <td>222.807</td>\n",
       "      <td>0.754</td>\n",
       "      <td>240.0</td>\n",
       "      <td>0.708</td>\n",
       "      <td>330.0</td>\n",
       "      <td>0.809</td>\n",
       "      <td>115.0</td>\n",
       "      <td>0.546</td>\n",
       "      <td>184.0</td>\n",
       "    </tr>\n",
       "    <tr>\n",
       "      <td>2010-01-07</td>\n",
       "      <td>0.544</td>\n",
       "      <td>293.3705</td>\n",
       "      <td>0.434</td>\n",
       "      <td>465.85</td>\n",
       "      <td>0.816</td>\n",
       "      <td>800.8065</td>\n",
       "      <td>0.795</td>\n",
       "      <td>54.7517</td>\n",
       "      <td>1.888</td>\n",
       "      <td>206.0081</td>\n",
       "      <td>...</td>\n",
       "      <td>0.476</td>\n",
       "      <td>222.807</td>\n",
       "      <td>0.745</td>\n",
       "      <td>240.0</td>\n",
       "      <td>0.705</td>\n",
       "      <td>330.0</td>\n",
       "      <td>0.793</td>\n",
       "      <td>115.0</td>\n",
       "      <td>0.528</td>\n",
       "      <td>184.0</td>\n",
       "    </tr>\n",
       "    <tr>\n",
       "      <td>2010-01-08</td>\n",
       "      <td>0.556</td>\n",
       "      <td>293.3705</td>\n",
       "      <td>0.436</td>\n",
       "      <td>465.85</td>\n",
       "      <td>0.831</td>\n",
       "      <td>800.8065</td>\n",
       "      <td>0.805</td>\n",
       "      <td>54.7517</td>\n",
       "      <td>1.890</td>\n",
       "      <td>206.0081</td>\n",
       "      <td>...</td>\n",
       "      <td>0.481</td>\n",
       "      <td>222.807</td>\n",
       "      <td>0.750</td>\n",
       "      <td>240.0</td>\n",
       "      <td>0.714</td>\n",
       "      <td>330.0</td>\n",
       "      <td>0.792</td>\n",
       "      <td>115.0</td>\n",
       "      <td>0.528</td>\n",
       "      <td>184.0</td>\n",
       "    </tr>\n",
       "  </tbody>\n",
       "</table>\n",
       "<p>5 rows × 98 columns</p>\n",
       "</div>"
      ],
      "text/plain": [
       "metric      900901-close  900901-float  900902-close  900902-float  \\\n",
       "date                                                                 \n",
       "2010-01-04         0.556      293.3705         0.443        465.85   \n",
       "2010-01-05         0.563      293.3705         0.443        465.85   \n",
       "2010-01-06         0.558      293.3705         0.441        465.85   \n",
       "2010-01-07         0.544      293.3705         0.434        465.85   \n",
       "2010-01-08         0.556      293.3705         0.436        465.85   \n",
       "\n",
       "metric      900903-close  900903-float  900904-close  900904-float  \\\n",
       "date                                                                 \n",
       "2010-01-04         0.816      800.8065         0.811       54.7517   \n",
       "2010-01-05         0.833      800.8065         0.813       54.7517   \n",
       "2010-01-06         0.824      800.8065         0.814       54.7517   \n",
       "2010-01-07         0.816      800.8065         0.795       54.7517   \n",
       "2010-01-08         0.831      800.8065         0.805       54.7517   \n",
       "\n",
       "metric      900905-close  900905-float  ...  900952-close  900952-float  \\\n",
       "date                                    ...                               \n",
       "2010-01-04         1.915      206.0081  ...         0.480       222.807   \n",
       "2010-01-05         1.932      206.0081  ...         0.485       222.807   \n",
       "2010-01-06         1.918      206.0081  ...         0.482       222.807   \n",
       "2010-01-07         1.888      206.0081  ...         0.476       222.807   \n",
       "2010-01-08         1.890      206.0081  ...         0.481       222.807   \n",
       "\n",
       "metric      900953-close  900953-float  900955-close  900955-float  \\\n",
       "date                                                                 \n",
       "2010-01-04         0.719         240.0         0.705         330.0   \n",
       "2010-01-05         0.739         240.0         0.695         330.0   \n",
       "2010-01-06         0.754         240.0         0.708         330.0   \n",
       "2010-01-07         0.745         240.0         0.705         330.0   \n",
       "2010-01-08         0.750         240.0         0.714         330.0   \n",
       "\n",
       "metric      900956-close  900956-float  900957-close  900957-float  \n",
       "date                                                                \n",
       "2010-01-04         0.798         115.0         0.546         184.0  \n",
       "2010-01-05         0.810         115.0         0.542         184.0  \n",
       "2010-01-06         0.809         115.0         0.546         184.0  \n",
       "2010-01-07         0.793         115.0         0.528         184.0  \n",
       "2010-01-08         0.792         115.0         0.528         184.0  \n",
       "\n",
       "[5 rows x 98 columns]"
      ]
     },
     "execution_count": 6,
     "metadata": {},
     "output_type": "execute_result"
    }
   ],
   "source": [
    "df2 = create_pivot_table(df)\n",
    "df2.head(5)"
   ]
  },
  {
   "cell_type": "code",
   "execution_count": 7,
   "metadata": {},
   "outputs": [
    {
     "data": {
      "text/plain": [
       "metric\n",
       "900940-close    472\n",
       "900940-float    427\n",
       "900907-close    365\n",
       "900946-close    340\n",
       "900938-close    340\n",
       "dtype: int64"
      ]
     },
     "execution_count": 7,
     "metadata": {},
     "output_type": "execute_result"
    }
   ],
   "source": [
    "# We observe a number of null values\n",
    "null_counts = df2.isnull().sum()\n",
    "null_counts.sort_values(ascending=False).head(5)"
   ]
  },
  {
   "cell_type": "code",
   "execution_count": 8,
   "metadata": {},
   "outputs": [],
   "source": [
    "# Imputing null values as 0.\n",
    "df2.fillna(0, inplace = True)"
   ]
  },
  {
   "cell_type": "code",
   "execution_count": 9,
   "metadata": {},
   "outputs": [],
   "source": [
    "# (1) Loading the target data -- the Shanghai B-share Index values. \n",
    "data_url3 = 'https://raw.githubusercontent.com/ZacharyHerold/CUNY-DATA622/master/FinalProject/000003.csv'\n",
    "raw_data3 = pd.read_csv(data_url3, sep=';')\n",
    "ix = raw_data3[['date','close']]\n",
    "\n",
    "# (2) Merging the Index closing values with the pivot table to ensure alignment of dates.\n",
    "df3 = df2.merge(ix, on='date')\n",
    "\n",
    "# (3) Setting the date as the index\n",
    "df3.set_index('date', inplace=True)"
   ]
  },
  {
   "cell_type": "markdown",
   "metadata": {},
   "source": [
    "In our index replication, we wish to engage in feature selection. We expect an end model with closing prices as predictors and regression coefficients approximating the (cap/float-based) weighting of the index construction. XGBRegressor() is the appropriate choice as it is the only gradient booster in the XGBoost package to compute coefficients that can be used in model construction. \n",
    "\n",
    "To do so, we first try to build the model with the lowest mean squared error using XGBoost's  gblinear."
   ]
  },
  {
   "cell_type": "markdown",
   "metadata": {},
   "source": [
    "As an experiment, we use the xgb.train() API with the booster gbtree, with maximum depth of 3 and 20 boosting rounds, then plot the features by importance. We learn that the none of the floating-share attributes made it to the model, even after rescaling with the StandardScaler().fit_transform() method. \n",
    "\n",
    "Most important stocks after boosting at max-depth 2:\n",
    "10-boosts: 900957, 900908, 900941, 900914\n",
    "20-boosts: 900957, 900908\n",
    "30-boosts: 900957, 900920, 900908, 900910\n",
    "40-boosts: 900957, 900908, 900910\n",
    "\n",
    "Most important stocks after boosting at max-depth 3:\n",
    "10-boosts: 900957, 900941, 900908\n",
    "20-boosts: 900948, 900908, 900941, 900957\n",
    "30-boosts: 900919, 900957, 900948, 900908\n",
    "40-boosts: 900948, 900919, 900957, 900908\n",
    "\n",
    "Most important stocks after boosting at max-depth 4:\n",
    "10-boosts: 900903, 900957, 900908\n",
    "20-boosts: 900919, 900957\n",
    "30-boosts: 900948, 900903, 900905, 900908\n",
    "40-boosts: 900948, 900903, 900908\n",
    "\n",
    "One of the stocks is expected: Inner Mongolia Yitai Coal, which is dually listed in Hong Kong and is typically the most actively traded stock on the exchange. However, the two other most frequently appearing stocks are a surpise - Shanghai Chlor-Alkali Chemical and Shanghai Lingyun Industries - as they are hardly among the leaders in terms of market capitalization or number of floating shares. "
   ]
  },
  {
   "cell_type": "code",
   "execution_count": 10,
   "metadata": {},
   "outputs": [
    {
     "data": {
      "text/html": [
       "<div>\n",
       "<style scoped>\n",
       "    .dataframe tbody tr th:only-of-type {\n",
       "        vertical-align: middle;\n",
       "    }\n",
       "\n",
       "    .dataframe tbody tr th {\n",
       "        vertical-align: top;\n",
       "    }\n",
       "\n",
       "    .dataframe thead th {\n",
       "        text-align: right;\n",
       "    }\n",
       "</style>\n",
       "<table border=\"1\" class=\"dataframe\">\n",
       "  <thead>\n",
       "    <tr style=\"text-align: right;\">\n",
       "      <th></th>\n",
       "      <th>ticker</th>\n",
       "      <th>name_b</th>\n",
       "      <th>company_name_en</th>\n",
       "    </tr>\n",
       "  </thead>\n",
       "  <tbody>\n",
       "    <tr>\n",
       "      <td>6</td>\n",
       "      <td>900908</td>\n",
       "      <td>氯碱B股</td>\n",
       "      <td>Shanghai Chlor-Alkali Chemical</td>\n",
       "    </tr>\n",
       "    <tr>\n",
       "      <td>42</td>\n",
       "      <td>900948</td>\n",
       "      <td>伊泰B股</td>\n",
       "      <td>Inner Mongolia Yitai Coal</td>\n",
       "    </tr>\n",
       "    <tr>\n",
       "      <td>48</td>\n",
       "      <td>900957</td>\n",
       "      <td>凌云B股</td>\n",
       "      <td>Shanghai Lingyun Industries</td>\n",
       "    </tr>\n",
       "  </tbody>\n",
       "</table>\n",
       "</div>"
      ],
      "text/plain": [
       "    ticker name_b                 company_name_en\n",
       "6   900908   氯碱B股  Shanghai Chlor-Alkali Chemical\n",
       "42  900948   伊泰B股       Inner Mongolia Yitai Coal\n",
       "48  900957   凌云B股     Shanghai Lingyun Industries"
      ]
     },
     "execution_count": 10,
     "metadata": {},
     "output_type": "execute_result"
    }
   ],
   "source": [
    "raw_data2[raw_data2.ticker.isin([900957,900908, 900948])][['ticker','name_b','company_name_en']]"
   ]
  },
  {
   "cell_type": "code",
   "execution_count": 11,
   "metadata": {},
   "outputs": [],
   "source": [
    "# Preparing the data for XGBoost\n",
    "X = df3.iloc[:,:-1]\n",
    "y = np.ravel(df3.iloc[:,-1])"
   ]
  },
  {
   "cell_type": "markdown",
   "metadata": {},
   "source": [
    "### Feature Selection with xgb.train() and xgb.plot_importance()"
   ]
  },
  {
   "cell_type": "code",
   "execution_count": 12,
   "metadata": {},
   "outputs": [
    {
     "data": {
      "image/png": "[encoded data removed]",
      "text/plain": [
       "<Figure size 1440x720 with 1 Axes>"
      ]
     },
     "metadata": {
      "needs_background": "light"
     },
     "output_type": "display_data"
    }
   ],
   "source": [
    "b_matrix = xgb.DMatrix(data=X, label=y)\n",
    "params = {\"booster\": \"gbtree\", \"objective\":\"reg:squarederror\", \"max_depth\":2}\n",
    "model1 = xgb.train(params=params, dtrain=b_matrix, num_boost_round=40)\n",
    "fig, ax = plt.subplots(figsize=(20, 10))\n",
    "xgb.plot_importance(model1, ax=ax)\n",
    "plt.show()"
   ]
  },
  {
   "cell_type": "markdown",
   "metadata": {},
   "source": [
    "Given the overwhelming lack of feature importance assigned to the floating shares, they are removed in the next trial of XGBoosting, this time using XGBRegressor()."
   ]
  },
  {
   "cell_type": "code",
   "execution_count": 13,
   "metadata": {},
   "outputs": [],
   "source": [
    "df = df.drop('float', axis=1)"
   ]
  },
  {
   "cell_type": "code",
   "execution_count": 14,
   "metadata": {},
   "outputs": [],
   "source": [
    "df2 = create_pivot_table(df)\n",
    "df3 = df2.merge(ix, on='date')\n",
    "df3.set_index('date', inplace=True)"
   ]
  },
  {
   "cell_type": "code",
   "execution_count": 15,
   "metadata": {},
   "outputs": [],
   "source": [
    "# Preparing the data for XGBoost\n",
    "X = df3.iloc[:,:-1]\n",
    "y = np.ravel(df3.iloc[:,-1])\n",
    "\n",
    "# Resolving infinity and None values\n",
    "X.replace(np.inf, np.nan, inplace=True)\n",
    "X.fillna(0, inplace=True)"
   ]
  },
  {
   "cell_type": "code",
   "execution_count": 16,
   "metadata": {},
   "outputs": [],
   "source": [
    "# Splitting samples 80/20 into training and test sets in order to calculate loss via root of mean squared error\n",
    "X_train, X_test, y_train, y_test = train_test_split(X, y, test_size = 0.2, random_state=123)\n",
    "dmatrix = xgb.DMatrix(data=X_train, label=y_train)"
   ]
  },
  {
   "cell_type": "markdown",
   "metadata": {},
   "source": [
    "### Tree boosting with GridSearch CV\n",
    "\n",
    "We use GridSearchCV from the sklearn.model_selection module to tune a variety of hyperparameters for candidate XGBRegressor models. A collection of RMSE scores are provided below, with variations in maximum depth, number of estimators and L1 normalization alpha. \n",
    "\n",
    "Best parameters found:  {'max_depth': 4, 'n_estimators': 20, 'reg_alpha': 0.8}\n",
    "Lowest RMSE found:  49.7074637875266\n",
    "    \n",
    "Best parameters found:  {'max_depth': 4, 'n_estimators': 40, 'reg_alpha': 0.8}\n",
    "Lowest RMSE found:  28.341556472431115\n",
    "\n",
    "Best parameters found:  {'max_depth': 3, 'n_estimators': 20, 'reg_alpha': 0.8}\n",
    "Lowest RMSE found:  49.29693159747133\n",
    "\n",
    "Best parameters found:  {'max_depth': 3, 'n_estimators': 20, 'reg_alpha': 0.2}\n",
    "Lowest RMSE found:  49.13339975755375\n",
    "    \n",
    "Best parameters found:  {'max_depth': 3, 'n_estimators': 40, 'reg_alpha': 0.1}\n",
    "Lowest RMSE found:  28.04693737341386\n",
    "\n",
    "Best parameters found:  {'max_depth': 3, 'n_estimators': 40, 'reg_alpha': 0.8}\n",
    "Lowest RMSE found:  31.117147351891198\n",
    "\n",
    "Best parameters found:  {'max_depth': 2, 'n_estimators': 20, 'reg_alpha': 0.1}\n",
    "Lowest RMSE found:  51.35253146994165\n",
    "\n",
    "Best parameters found:  {'max_depth': 2, 'n_estimators': 40, 'reg_alpha': 0.8}\n",
    "Lowest RMSE found:  29.812441095775487"
   ]
  },
  {
   "cell_type": "code",
   "execution_count": 17,
   "metadata": {},
   "outputs": [
    {
     "name": "stdout",
     "output_type": "stream",
     "text": [
      "Fitting 4 folds for each of 15 candidates, totalling 60 fits\n"
     ]
    },
    {
     "name": "stderr",
     "output_type": "stream",
     "text": [
      "[Parallel(n_jobs=1)]: Using backend SequentialBackend with 1 concurrent workers.\n",
      "[Parallel(n_jobs=1)]: Done  60 out of  60 | elapsed:   19.0s finished\n",
      "c:\\python\\python37\\lib\\site-packages\\sklearn\\model_selection\\_search.py:814: DeprecationWarning: The default of the `iid` parameter will change from True to False in version 0.22 and will be removed in 0.24. This will change numeric results when test-set sizes are unequal.\n",
      "  DeprecationWarning)\n"
     ]
    },
    {
     "name": "stdout",
     "output_type": "stream",
     "text": [
      "Best parameters found:  {'max_depth': 3, 'n_estimators': 40, 'reg_alpha': 0.8}\n",
      "Lowest RMSE found:  31.117147351891198\n"
     ]
    }
   ],
   "source": [
    "gbm_param_grid = {\n",
    "    'n_estimators': np.arange(20,45,5),\n",
    "    'max_depth': [3],\n",
    "    'reg_alpha': [0.2, 0.8, 0.2] \n",
    "}\n",
    "# Instantiate the regressor: gbm\n",
    "gbm = xgb.XGBRegressor(objective='reg:squarederror')\n",
    "# Perform grid search: grid_mse\n",
    "grid_mse = GridSearchCV(estimator=gbm, param_grid=gbm_param_grid, scoring=\"neg_mean_squared_error\", cv=4,verbose=1)\n",
    "# Fit grid_mse to the data\n",
    "grid_mse.fit(X,y)\n",
    "# Print the best parameters and lowest RMSE\n",
    "print(\"Best parameters found: \", grid_mse.best_params_)\n",
    "print(\"Lowest RMSE found: \", np.sqrt(np.abs(grid_mse.best_score_)))"
   ]
  },
  {
   "cell_type": "markdown",
   "metadata": {},
   "source": [
    "### Note on L1 Regularization\n",
    "\n",
    "Since our aim is to engage in feature selection, we require high alpha closer to 1. We observe that the main driver for differences in RMSE is the number of estimators. The default booster of gbtree yields excessive loss when the number of estimators is 20, as opposed to 40. \n",
    "\n",
    "L1 regularization adds a penalty to the loss function (L1-norm). Since each non-zero coefficient adds to the penalty, it forces weak features to have zero as coefficients. Thus L1 regularization produces sparse solutions, inherently performing feature selection. "
   ]
  },
  {
   "cell_type": "markdown",
   "metadata": {},
   "source": [
    "### Linear Boosting\n",
    "\n",
    "We observe a decrease in RMSE when using a linear booster, even with the level of estimators at 20, suggesting that a strong linear component in the ground truth, as is expected in a market-cap weighted index.  \n",
    "\n",
    "reg_alpha=0.8, n_estimators=20 ----> RMSE: 16.54346"
   ]
  },
  {
   "cell_type": "code",
   "execution_count": 19,
   "metadata": {},
   "outputs": [
    {
     "name": "stdout",
     "output_type": "stream",
     "text": [
      "RMSE: 16.54346\n"
     ]
    }
   ],
   "source": [
    "model2 = xgb.XGBRegressor(dtrain=dmatrix, booster='gblinear', reg_alpha=0.8, n_estimators=20, objective=\"reg:squarederror\")\n",
    "model2.fit(X_train, y_train)\n",
    "preds2 = model2.predict(X_test)\n",
    "\n",
    "mse2 = mean_squared_error(preds2, y_test)\n",
    "print(\"RMSE: %.5f\" % (np.sqrt(np.abs(mse2))))"
   ]
  },
  {
   "cell_type": "markdown",
   "metadata": {},
   "source": [
    "### Visualizing Ground Truth vs. Predicted Index Values\n",
    "\n",
    "We observe that our predicted values tend to be below the identity line, revealing that our model underestimates the index value, especially when it is above 270. "
   ]
  },
  {
   "cell_type": "code",
   "execution_count": 20,
   "metadata": {},
   "outputs": [
    {
     "data": {
      "image/png": "[encoded data removed]",
      "text/plain": [
       "<Figure size 432x288 with 1 Axes>"
      ]
     },
     "metadata": {
      "needs_background": "light"
     },
     "output_type": "display_data"
    }
   ],
   "source": [
    "draw_prediction_graph(preds2)"
   ]
  },
  {
   "cell_type": "markdown",
   "metadata": {},
   "source": [
    "### Regression Coefficient Extraction\n",
    "\n",
    "When we extract the regression coefficients from XGBRegressor(), we fail to discover the feature selection we expected, with all 49 coefficients well above 0. We note the stocks that are most heavily weighted under this method, and compare the results after the historical data has been standardized using StandardScaler() below. "
   ]
  },
  {
   "cell_type": "code",
   "execution_count": 21,
   "metadata": {},
   "outputs": [
    {
     "data": {
      "text/plain": [
       "[feature           900957-close\n",
       " coef_alpha_0.8         9.26289\n",
       " dtype: object, feature           900901-close\n",
       " coef_alpha_0.8        0.798083\n",
       " dtype: object]"
      ]
     },
     "execution_count": 21,
     "metadata": {},
     "output_type": "execute_result"
    }
   ],
   "source": [
    "features = X.columns\n",
    "coef2 = model2.coef_\n",
    "reg2 = pd.DataFrame(list(zip(features,coef2)), columns=['feature','coef_alpha_0.8'])\n",
    "reg2 = reg2.sort_values(by = 'coef_alpha_0.8', ascending=False)\n",
    "[reg2.max(), reg2.min()]"
   ]
  },
  {
   "cell_type": "code",
   "execution_count": 22,
   "metadata": {},
   "outputs": [
    {
     "data": {
      "text/html": [
       "<div>\n",
       "<style scoped>\n",
       "    .dataframe tbody tr th:only-of-type {\n",
       "        vertical-align: middle;\n",
       "    }\n",
       "\n",
       "    .dataframe tbody tr th {\n",
       "        vertical-align: top;\n",
       "    }\n",
       "\n",
       "    .dataframe thead th {\n",
       "        text-align: right;\n",
       "    }\n",
       "</style>\n",
       "<table border=\"1\" class=\"dataframe\">\n",
       "  <thead>\n",
       "    <tr style=\"text-align: right;\">\n",
       "      <th></th>\n",
       "      <th>feature</th>\n",
       "      <th>coef_alpha_0.8</th>\n",
       "    </tr>\n",
       "  </thead>\n",
       "  <tbody>\n",
       "    <tr>\n",
       "      <td>4</td>\n",
       "      <td>900905-close</td>\n",
       "      <td>9.26289</td>\n",
       "    </tr>\n",
       "    <tr>\n",
       "      <td>9</td>\n",
       "      <td>900911-close</td>\n",
       "      <td>7.90691</td>\n",
       "    </tr>\n",
       "    <tr>\n",
       "      <td>3</td>\n",
       "      <td>900904-close</td>\n",
       "      <td>7.69222</td>\n",
       "    </tr>\n",
       "    <tr>\n",
       "      <td>12</td>\n",
       "      <td>900914-close</td>\n",
       "      <td>7.04920</td>\n",
       "    </tr>\n",
       "    <tr>\n",
       "      <td>21</td>\n",
       "      <td>900923-close</td>\n",
       "      <td>7.02874</td>\n",
       "    </tr>\n",
       "    <tr>\n",
       "      <td>10</td>\n",
       "      <td>900912-close</td>\n",
       "      <td>6.97406</td>\n",
       "    </tr>\n",
       "    <tr>\n",
       "      <td>29</td>\n",
       "      <td>900933-close</td>\n",
       "      <td>6.91626</td>\n",
       "    </tr>\n",
       "    <tr>\n",
       "      <td>23</td>\n",
       "      <td>900925-close</td>\n",
       "      <td>6.88708</td>\n",
       "    </tr>\n",
       "    <tr>\n",
       "      <td>7</td>\n",
       "      <td>900909-close</td>\n",
       "      <td>6.42843</td>\n",
       "    </tr>\n",
       "    <tr>\n",
       "      <td>20</td>\n",
       "      <td>900922-close</td>\n",
       "      <td>6.17458</td>\n",
       "    </tr>\n",
       "  </tbody>\n",
       "</table>\n",
       "</div>"
      ],
      "text/plain": [
       "         feature  coef_alpha_0.8\n",
       "4   900905-close         9.26289\n",
       "9   900911-close         7.90691\n",
       "3   900904-close         7.69222\n",
       "12  900914-close         7.04920\n",
       "21  900923-close         7.02874\n",
       "10  900912-close         6.97406\n",
       "29  900933-close         6.91626\n",
       "23  900925-close         6.88708\n",
       "7   900909-close         6.42843\n",
       "20  900922-close         6.17458"
      ]
     },
     "execution_count": 22,
     "metadata": {},
     "output_type": "execute_result"
    }
   ],
   "source": [
    "reg2.head(10)"
   ]
  },
  {
   "cell_type": "code",
   "execution_count": 23,
   "metadata": {},
   "outputs": [
    {
     "data": {
      "text/html": [
       "<div>\n",
       "<style scoped>\n",
       "    .dataframe tbody tr th:only-of-type {\n",
       "        vertical-align: middle;\n",
       "    }\n",
       "\n",
       "    .dataframe tbody tr th {\n",
       "        vertical-align: top;\n",
       "    }\n",
       "\n",
       "    .dataframe thead th {\n",
       "        text-align: right;\n",
       "    }\n",
       "</style>\n",
       "<table border=\"1\" class=\"dataframe\">\n",
       "  <thead>\n",
       "    <tr style=\"text-align: right;\">\n",
       "      <th></th>\n",
       "      <th>ticker</th>\n",
       "      <th>name_b</th>\n",
       "      <th>company_name_en</th>\n",
       "    </tr>\n",
       "  </thead>\n",
       "  <tbody>\n",
       "    <tr>\n",
       "      <td>3</td>\n",
       "      <td>900904</td>\n",
       "      <td>神奇B股</td>\n",
       "      <td>Shanghao Shenqi Pharmaceutical</td>\n",
       "    </tr>\n",
       "    <tr>\n",
       "      <td>4</td>\n",
       "      <td>900905</td>\n",
       "      <td>老凤祥B</td>\n",
       "      <td>Lao Feng Xiang</td>\n",
       "    </tr>\n",
       "    <tr>\n",
       "      <td>7</td>\n",
       "      <td>900909</td>\n",
       "      <td>华谊B股</td>\n",
       "      <td>Shanghai Huayi Group</td>\n",
       "    </tr>\n",
       "    <tr>\n",
       "      <td>9</td>\n",
       "      <td>900911</td>\n",
       "      <td>金桥B股</td>\n",
       "      <td>Shanghai Jinqiao Development</td>\n",
       "    </tr>\n",
       "    <tr>\n",
       "      <td>10</td>\n",
       "      <td>900912</td>\n",
       "      <td>外高B股</td>\n",
       "      <td>Shanghai Waigaoqiao Development</td>\n",
       "    </tr>\n",
       "    <tr>\n",
       "      <td>12</td>\n",
       "      <td>900914</td>\n",
       "      <td>锦投B股</td>\n",
       "      <td>Shanghai Jinjiang Investment</td>\n",
       "    </tr>\n",
       "    <tr>\n",
       "      <td>20</td>\n",
       "      <td>900922</td>\n",
       "      <td>三毛B股</td>\n",
       "      <td>Shanghai Sanmao Enterprise</td>\n",
       "    </tr>\n",
       "    <tr>\n",
       "      <td>21</td>\n",
       "      <td>900923</td>\n",
       "      <td>百联B股</td>\n",
       "      <td>Shanghai Bailian Group</td>\n",
       "    </tr>\n",
       "    <tr>\n",
       "      <td>23</td>\n",
       "      <td>900925</td>\n",
       "      <td>机电B股</td>\n",
       "      <td>Shanghai Mechanical &amp; Electrical</td>\n",
       "    </tr>\n",
       "    <tr>\n",
       "      <td>29</td>\n",
       "      <td>900933</td>\n",
       "      <td>华新B股</td>\n",
       "      <td>Huaxin Cement</td>\n",
       "    </tr>\n",
       "  </tbody>\n",
       "</table>\n",
       "</div>"
      ],
      "text/plain": [
       "    ticker name_b                   company_name_en\n",
       "3   900904   神奇B股    Shanghao Shenqi Pharmaceutical\n",
       "4   900905   老凤祥B                    Lao Feng Xiang\n",
       "7   900909   华谊B股              Shanghai Huayi Group\n",
       "9   900911   金桥B股      Shanghai Jinqiao Development\n",
       "10  900912   外高B股   Shanghai Waigaoqiao Development\n",
       "12  900914   锦投B股      Shanghai Jinjiang Investment\n",
       "20  900922   三毛B股       Shanghai Sanmao Enterprise \n",
       "21  900923   百联B股            Shanghai Bailian Group\n",
       "23  900925   机电B股  Shanghai Mechanical & Electrical\n",
       "29  900933   华新B股                     Huaxin Cement"
      ]
     },
     "execution_count": 23,
     "metadata": {},
     "output_type": "execute_result"
    }
   ],
   "source": [
    "## Most heavily weighted stocks in index construction with non-standardized data. \n",
    "raw_data2[raw_data2.ticker.isin([900905,900911, 900904, 900914, 900923, 900912, 900933, 900925, 900909, 900922])][['ticker','name_b','company_name_en']]"
   ]
  },
  {
   "cell_type": "markdown",
   "metadata": {},
   "source": [
    "### Rescaling the data with StandardScaler()"
   ]
  },
  {
   "cell_type": "code",
   "execution_count": 24,
   "metadata": {},
   "outputs": [],
   "source": [
    "rescaled_X = StandardScaler().fit_transform(X)\n",
    "y = np.array(y)\n",
    "y = y.reshape(-1, 1)\n",
    "rescaled_y = StandardScaler().fit_transform(y)"
   ]
  },
  {
   "cell_type": "code",
   "execution_count": 25,
   "metadata": {},
   "outputs": [],
   "source": [
    "X_train, X_test, y_train, y_test = train_test_split(rescaled_X, rescaled_y, test_size = 0.2, random_state=123)"
   ]
  },
  {
   "cell_type": "code",
   "execution_count": 26,
   "metadata": {},
   "outputs": [
    {
     "name": "stdout",
     "output_type": "stream",
     "text": [
      "RMSE: 0.94416\n"
     ]
    }
   ],
   "source": [
    "model3 = xgb.XGBRegressor(dtrain=dmatrix, booster='gblinear', reg_alpha=0.8, n_estimators=20, objective=\"reg:squarederror\")\n",
    "model3.fit(X_train, y_train)\n",
    "preds3 = model3.predict(X_test)\n",
    "\n",
    "mse3 = mean_squared_error(preds3, y_test)\n",
    "print(\"RMSE: %.5f\" % (np.sqrt(np.abs(mse3))))"
   ]
  },
  {
   "cell_type": "code",
   "execution_count": 27,
   "metadata": {},
   "outputs": [
    {
     "data": {
      "text/html": [
       "<div>\n",
       "<style scoped>\n",
       "    .dataframe tbody tr th:only-of-type {\n",
       "        vertical-align: middle;\n",
       "    }\n",
       "\n",
       "    .dataframe tbody tr th {\n",
       "        vertical-align: top;\n",
       "    }\n",
       "\n",
       "    .dataframe thead th {\n",
       "        text-align: right;\n",
       "    }\n",
       "</style>\n",
       "<table border=\"1\" class=\"dataframe\">\n",
       "  <thead>\n",
       "    <tr style=\"text-align: right;\">\n",
       "      <th></th>\n",
       "      <th>feature</th>\n",
       "      <th>coef_alpha_0.8</th>\n",
       "    </tr>\n",
       "  </thead>\n",
       "  <tbody>\n",
       "    <tr>\n",
       "      <td>48</td>\n",
       "      <td>900957-close</td>\n",
       "      <td>0.017207</td>\n",
       "    </tr>\n",
       "    <tr>\n",
       "      <td>6</td>\n",
       "      <td>900908-close</td>\n",
       "      <td>0.015913</td>\n",
       "    </tr>\n",
       "    <tr>\n",
       "      <td>27</td>\n",
       "      <td>900929-close</td>\n",
       "      <td>0.015885</td>\n",
       "    </tr>\n",
       "    <tr>\n",
       "      <td>36</td>\n",
       "      <td>900941-close</td>\n",
       "      <td>0.014758</td>\n",
       "    </tr>\n",
       "    <tr>\n",
       "      <td>12</td>\n",
       "      <td>900914-close</td>\n",
       "      <td>0.007279</td>\n",
       "    </tr>\n",
       "    <tr>\n",
       "      <td>4</td>\n",
       "      <td>900905-close</td>\n",
       "      <td>0.006750</td>\n",
       "    </tr>\n",
       "    <tr>\n",
       "      <td>45</td>\n",
       "      <td>900953-close</td>\n",
       "      <td>0.002323</td>\n",
       "    </tr>\n",
       "    <tr>\n",
       "      <td>38</td>\n",
       "      <td>900943-close</td>\n",
       "      <td>0.000126</td>\n",
       "    </tr>\n",
       "    <tr>\n",
       "      <td>34</td>\n",
       "      <td>900939-close</td>\n",
       "      <td>0.000122</td>\n",
       "    </tr>\n",
       "    <tr>\n",
       "      <td>43</td>\n",
       "      <td>900951-close</td>\n",
       "      <td>0.000071</td>\n",
       "    </tr>\n",
       "    <tr>\n",
       "      <td>9</td>\n",
       "      <td>900911-close</td>\n",
       "      <td>0.000061</td>\n",
       "    </tr>\n",
       "    <tr>\n",
       "      <td>23</td>\n",
       "      <td>900925-close</td>\n",
       "      <td>0.000028</td>\n",
       "    </tr>\n",
       "    <tr>\n",
       "      <td>30</td>\n",
       "      <td>900934-close</td>\n",
       "      <td>0.000000</td>\n",
       "    </tr>\n",
       "    <tr>\n",
       "      <td>35</td>\n",
       "      <td>900940-close</td>\n",
       "      <td>0.000000</td>\n",
       "    </tr>\n",
       "    <tr>\n",
       "      <td>31</td>\n",
       "      <td>900936-close</td>\n",
       "      <td>0.000000</td>\n",
       "    </tr>\n",
       "  </tbody>\n",
       "</table>\n",
       "</div>"
      ],
      "text/plain": [
       "         feature  coef_alpha_0.8\n",
       "48  900957-close        0.017207\n",
       "6   900908-close        0.015913\n",
       "27  900929-close        0.015885\n",
       "36  900941-close        0.014758\n",
       "12  900914-close        0.007279\n",
       "4   900905-close        0.006750\n",
       "45  900953-close        0.002323\n",
       "38  900943-close        0.000126\n",
       "34  900939-close        0.000122\n",
       "43  900951-close        0.000071\n",
       "9   900911-close        0.000061\n",
       "23  900925-close        0.000028\n",
       "30  900934-close        0.000000\n",
       "35  900940-close        0.000000\n",
       "31  900936-close        0.000000"
      ]
     },
     "execution_count": 27,
     "metadata": {},
     "output_type": "execute_result"
    }
   ],
   "source": [
    "#After scaling, feature selection occurs, producing 7 stocks for index inclusion.\n",
    "coef3 = model3.coef_\n",
    "reg3 = pd.DataFrame(list(zip(features,coef3)), columns=['feature','coef_alpha_0.8'])\n",
    "reg3 = reg3.sort_values(by = 'coef_alpha_0.8', ascending=False)\n",
    "reg3.head(15)"
   ]
  },
  {
   "cell_type": "code",
   "execution_count": 28,
   "metadata": {},
   "outputs": [
    {
     "data": {
      "text/html": [
       "<div>\n",
       "<style scoped>\n",
       "    .dataframe tbody tr th:only-of-type {\n",
       "        vertical-align: middle;\n",
       "    }\n",
       "\n",
       "    .dataframe tbody tr th {\n",
       "        vertical-align: top;\n",
       "    }\n",
       "\n",
       "    .dataframe thead th {\n",
       "        text-align: right;\n",
       "    }\n",
       "</style>\n",
       "<table border=\"1\" class=\"dataframe\">\n",
       "  <thead>\n",
       "    <tr style=\"text-align: right;\">\n",
       "      <th></th>\n",
       "      <th>ticker</th>\n",
       "      <th>name_b</th>\n",
       "      <th>company_name_en</th>\n",
       "    </tr>\n",
       "  </thead>\n",
       "  <tbody>\n",
       "    <tr>\n",
       "      <td>4</td>\n",
       "      <td>900905</td>\n",
       "      <td>老凤祥B</td>\n",
       "      <td>Lao Feng Xiang</td>\n",
       "    </tr>\n",
       "    <tr>\n",
       "      <td>6</td>\n",
       "      <td>900908</td>\n",
       "      <td>氯碱B股</td>\n",
       "      <td>Shanghai Chlor-Alkali Chemical</td>\n",
       "    </tr>\n",
       "    <tr>\n",
       "      <td>12</td>\n",
       "      <td>900914</td>\n",
       "      <td>锦投B股</td>\n",
       "      <td>Shanghai Jinjiang Investment</td>\n",
       "    </tr>\n",
       "    <tr>\n",
       "      <td>27</td>\n",
       "      <td>900929</td>\n",
       "      <td>锦旅B股</td>\n",
       "      <td>Shanghai Jinjiang Travel</td>\n",
       "    </tr>\n",
       "    <tr>\n",
       "      <td>36</td>\n",
       "      <td>900941</td>\n",
       "      <td>东信B股</td>\n",
       "      <td>Eastern Communications</td>\n",
       "    </tr>\n",
       "    <tr>\n",
       "      <td>45</td>\n",
       "      <td>900953</td>\n",
       "      <td>凯马B</td>\n",
       "      <td>Kama Co</td>\n",
       "    </tr>\n",
       "    <tr>\n",
       "      <td>48</td>\n",
       "      <td>900957</td>\n",
       "      <td>凌云B股</td>\n",
       "      <td>Shanghai Lingyun Industries</td>\n",
       "    </tr>\n",
       "  </tbody>\n",
       "</table>\n",
       "</div>"
      ],
      "text/plain": [
       "    ticker name_b                 company_name_en\n",
       "4   900905   老凤祥B                  Lao Feng Xiang\n",
       "6   900908   氯碱B股  Shanghai Chlor-Alkali Chemical\n",
       "12  900914   锦投B股    Shanghai Jinjiang Investment\n",
       "27  900929   锦旅B股        Shanghai Jinjiang Travel\n",
       "36  900941   东信B股          Eastern Communications\n",
       "45  900953    凯马B                         Kama Co\n",
       "48  900957   凌云B股     Shanghai Lingyun Industries"
      ]
     },
     "execution_count": 28,
     "metadata": {},
     "output_type": "execute_result"
    }
   ],
   "source": [
    "## Most heavily weighted stocks in index construction with standardized data using XGBRegressor(). \n",
    "raw_data2[raw_data2.ticker.isin([900957,900908, 900929, 900941, 900914, 900905, 900953])][['ticker','name_b','company_name_en']]"
   ]
  },
  {
   "cell_type": "markdown",
   "metadata": {},
   "source": [
    "It is interesting to note that we see 900908 and 900957, as we unexpectedly did when we performed the initial feature selection using xgb.train and the gbtree booster. It may be the case that these two stocks have a beta close to 1. 900905, LaoFengXiang, the most expensive stock on the market, and the Jinjiang stocks (900914, 900929) are mainstream stocks we would expect as heavy contributors to the index. "
   ]
  },
  {
   "cell_type": "markdown",
   "metadata": {},
   "source": [
    "### Using sklearn.model_selection's Lasso \n",
    "\n",
    "Finally, we wish to compare the XGBRegressor results with alpha regularization to the Scikit-Learn Lasso model, which also employs L1 regularization. Lasso requires scaling and the feature selection is much more apparent, with 4 non-zero stocks. \n",
    "\n",
    "The RMSE with Lasso of 0.92500 compares favorable to XGBRegressor's score of RMSE: 0.94416, but they both are far too high in consideration that they are standardized values. "
   ]
  },
  {
   "cell_type": "code",
   "execution_count": 29,
   "metadata": {},
   "outputs": [
    {
     "name": "stdout",
     "output_type": "stream",
     "text": [
      "RMSE: 0.92500\n"
     ]
    }
   ],
   "source": [
    "model4 = Lasso(alpha=0.8)\n",
    "model4.fit(X_train, y_train)\n",
    "preds4 = model4.predict(X_test)\n",
    "\n",
    "mse4 = mean_squared_error(preds4, y_test)\n",
    "print(\"RMSE: %.5f\" % (np.sqrt(np.abs(mse4))))"
   ]
  },
  {
   "cell_type": "code",
   "execution_count": 30,
   "metadata": {},
   "outputs": [
    {
     "data": {
      "text/html": [
       "<div>\n",
       "<style scoped>\n",
       "    .dataframe tbody tr th:only-of-type {\n",
       "        vertical-align: middle;\n",
       "    }\n",
       "\n",
       "    .dataframe tbody tr th {\n",
       "        vertical-align: top;\n",
       "    }\n",
       "\n",
       "    .dataframe thead th {\n",
       "        text-align: right;\n",
       "    }\n",
       "</style>\n",
       "<table border=\"1\" class=\"dataframe\">\n",
       "  <thead>\n",
       "    <tr style=\"text-align: right;\">\n",
       "      <th></th>\n",
       "      <th>feature</th>\n",
       "      <th>coef_alpha_0.8_lasso</th>\n",
       "    </tr>\n",
       "  </thead>\n",
       "  <tbody>\n",
       "    <tr>\n",
       "      <td>48</td>\n",
       "      <td>900957-close</td>\n",
       "      <td>0.047838</td>\n",
       "    </tr>\n",
       "    <tr>\n",
       "      <td>36</td>\n",
       "      <td>900941-close</td>\n",
       "      <td>0.022310</td>\n",
       "    </tr>\n",
       "    <tr>\n",
       "      <td>6</td>\n",
       "      <td>900908-close</td>\n",
       "      <td>0.019692</td>\n",
       "    </tr>\n",
       "    <tr>\n",
       "      <td>27</td>\n",
       "      <td>900929-close</td>\n",
       "      <td>0.010046</td>\n",
       "    </tr>\n",
       "    <tr>\n",
       "      <td>37</td>\n",
       "      <td>900942-close</td>\n",
       "      <td>0.000000</td>\n",
       "    </tr>\n",
       "    <tr>\n",
       "      <td>28</td>\n",
       "      <td>900932-close</td>\n",
       "      <td>0.000000</td>\n",
       "    </tr>\n",
       "    <tr>\n",
       "      <td>29</td>\n",
       "      <td>900933-close</td>\n",
       "      <td>-0.000000</td>\n",
       "    </tr>\n",
       "    <tr>\n",
       "      <td>30</td>\n",
       "      <td>900934-close</td>\n",
       "      <td>0.000000</td>\n",
       "    </tr>\n",
       "  </tbody>\n",
       "</table>\n",
       "</div>"
      ],
      "text/plain": [
       "         feature  coef_alpha_0.8_lasso\n",
       "48  900957-close              0.047838\n",
       "36  900941-close              0.022310\n",
       "6   900908-close              0.019692\n",
       "27  900929-close              0.010046\n",
       "37  900942-close              0.000000\n",
       "28  900932-close              0.000000\n",
       "29  900933-close             -0.000000\n",
       "30  900934-close              0.000000"
      ]
     },
     "execution_count": 30,
     "metadata": {},
     "output_type": "execute_result"
    }
   ],
   "source": [
    "coef4 = model4.coef_\n",
    "reg4 = pd.DataFrame(list(zip(features,coef4)), columns=['feature','coef_alpha_0.8_lasso'])\n",
    "reg4 = reg4.sort_values(by = 'coef_alpha_0.8_lasso', ascending=False)\n",
    "reg4.head(8)"
   ]
  },
  {
   "cell_type": "code",
   "execution_count": 31,
   "metadata": {},
   "outputs": [
    {
     "data": {
      "text/html": [
       "<div>\n",
       "<style scoped>\n",
       "    .dataframe tbody tr th:only-of-type {\n",
       "        vertical-align: middle;\n",
       "    }\n",
       "\n",
       "    .dataframe tbody tr th {\n",
       "        vertical-align: top;\n",
       "    }\n",
       "\n",
       "    .dataframe thead th {\n",
       "        text-align: right;\n",
       "    }\n",
       "</style>\n",
       "<table border=\"1\" class=\"dataframe\">\n",
       "  <thead>\n",
       "    <tr style=\"text-align: right;\">\n",
       "      <th></th>\n",
       "      <th>ticker</th>\n",
       "      <th>name_b</th>\n",
       "      <th>company_name_en</th>\n",
       "    </tr>\n",
       "  </thead>\n",
       "  <tbody>\n",
       "    <tr>\n",
       "      <td>6</td>\n",
       "      <td>900908</td>\n",
       "      <td>氯碱B股</td>\n",
       "      <td>Shanghai Chlor-Alkali Chemical</td>\n",
       "    </tr>\n",
       "    <tr>\n",
       "      <td>27</td>\n",
       "      <td>900929</td>\n",
       "      <td>锦旅B股</td>\n",
       "      <td>Shanghai Jinjiang Travel</td>\n",
       "    </tr>\n",
       "    <tr>\n",
       "      <td>36</td>\n",
       "      <td>900941</td>\n",
       "      <td>东信B股</td>\n",
       "      <td>Eastern Communications</td>\n",
       "    </tr>\n",
       "    <tr>\n",
       "      <td>48</td>\n",
       "      <td>900957</td>\n",
       "      <td>凌云B股</td>\n",
       "      <td>Shanghai Lingyun Industries</td>\n",
       "    </tr>\n",
       "  </tbody>\n",
       "</table>\n",
       "</div>"
      ],
      "text/plain": [
       "    ticker name_b                 company_name_en\n",
       "6   900908   氯碱B股  Shanghai Chlor-Alkali Chemical\n",
       "27  900929   锦旅B股        Shanghai Jinjiang Travel\n",
       "36  900941   东信B股          Eastern Communications\n",
       "48  900957   凌云B股     Shanghai Lingyun Industries"
      ]
     },
     "execution_count": 31,
     "metadata": {},
     "output_type": "execute_result"
    }
   ],
   "source": [
    "## Most heavily weighted stocks in index construction with standardized data using sklearn.Lasso() with alpha=0.8. \n",
    "raw_data2[raw_data2.ticker.isin([900957,900941, 900908, 900929])][['ticker','name_b','company_name_en']]"
   ]
  },
  {
   "cell_type": "code",
   "execution_count": 32,
   "metadata": {},
   "outputs": [
    {
     "data": {
      "image/png": "[encoded data removed]",
      "text/plain": [
       "<Figure size 432x288 with 1 Axes>"
      ]
     },
     "metadata": {
      "needs_background": "light"
     },
     "output_type": "display_data"
    }
   ],
   "source": [
    "# From the visualization below, we can see far too many features have been removed to make the model useful. \n",
    "# It has lost all predictive value.\n",
    "draw_prediction_graph(preds4)"
   ]
  },
  {
   "cell_type": "code",
   "execution_count": 34,
   "metadata": {},
   "outputs": [
    {
     "name": "stdout",
     "output_type": "stream",
     "text": [
      "RMSE: 0.23643\n"
     ]
    }
   ],
   "source": [
    "#Creating a new model with L1-norm penalty of 0.1\n",
    "model5 = Lasso(alpha=0.1)\n",
    "model5.fit(X_train, y_train)\n",
    "preds5 = model5.predict(X_test)\n",
    "mse5 = mean_squared_error(preds5, y_test)\n",
    "print(\"RMSE: %.5f\" % (np.sqrt(np.abs(mse5))))"
   ]
  },
  {
   "cell_type": "code",
   "execution_count": 35,
   "metadata": {},
   "outputs": [
    {
     "data": {
      "text/html": [
       "<div>\n",
       "<style scoped>\n",
       "    .dataframe tbody tr th:only-of-type {\n",
       "        vertical-align: middle;\n",
       "    }\n",
       "\n",
       "    .dataframe tbody tr th {\n",
       "        vertical-align: top;\n",
       "    }\n",
       "\n",
       "    .dataframe thead th {\n",
       "        text-align: right;\n",
       "    }\n",
       "</style>\n",
       "<table border=\"1\" class=\"dataframe\">\n",
       "  <thead>\n",
       "    <tr style=\"text-align: right;\">\n",
       "      <th></th>\n",
       "      <th>feature</th>\n",
       "      <th>coef_alpha_0.1_lasso</th>\n",
       "    </tr>\n",
       "  </thead>\n",
       "  <tbody>\n",
       "    <tr>\n",
       "      <td>6</td>\n",
       "      <td>900908-close</td>\n",
       "      <td>0.219365</td>\n",
       "    </tr>\n",
       "    <tr>\n",
       "      <td>4</td>\n",
       "      <td>900905-close</td>\n",
       "      <td>0.172487</td>\n",
       "    </tr>\n",
       "    <tr>\n",
       "      <td>48</td>\n",
       "      <td>900957-close</td>\n",
       "      <td>0.125663</td>\n",
       "    </tr>\n",
       "    <tr>\n",
       "      <td>36</td>\n",
       "      <td>900941-close</td>\n",
       "      <td>0.122582</td>\n",
       "    </tr>\n",
       "    <tr>\n",
       "      <td>16</td>\n",
       "      <td>900918-close</td>\n",
       "      <td>0.109004</td>\n",
       "    </tr>\n",
       "    <tr>\n",
       "      <td>27</td>\n",
       "      <td>900929-close</td>\n",
       "      <td>0.081991</td>\n",
       "    </tr>\n",
       "    <tr>\n",
       "      <td>45</td>\n",
       "      <td>900953-close</td>\n",
       "      <td>0.051973</td>\n",
       "    </tr>\n",
       "    <tr>\n",
       "      <td>41</td>\n",
       "      <td>900947-close</td>\n",
       "      <td>0.050532</td>\n",
       "    </tr>\n",
       "    <tr>\n",
       "      <td>32</td>\n",
       "      <td>900937-close</td>\n",
       "      <td>0.036738</td>\n",
       "    </tr>\n",
       "    <tr>\n",
       "      <td>9</td>\n",
       "      <td>900911-close</td>\n",
       "      <td>0.014385</td>\n",
       "    </tr>\n",
       "    <tr>\n",
       "      <td>24</td>\n",
       "      <td>900926-close</td>\n",
       "      <td>0.013173</td>\n",
       "    </tr>\n",
       "    <tr>\n",
       "      <td>22</td>\n",
       "      <td>900924-close</td>\n",
       "      <td>0.008708</td>\n",
       "    </tr>\n",
       "    <tr>\n",
       "      <td>2</td>\n",
       "      <td>900903-close</td>\n",
       "      <td>0.007984</td>\n",
       "    </tr>\n",
       "    <tr>\n",
       "      <td>11</td>\n",
       "      <td>900913-close</td>\n",
       "      <td>0.000000</td>\n",
       "    </tr>\n",
       "    <tr>\n",
       "      <td>39</td>\n",
       "      <td>900945-close</td>\n",
       "      <td>0.000000</td>\n",
       "    </tr>\n",
       "  </tbody>\n",
       "</table>\n",
       "</div>"
      ],
      "text/plain": [
       "         feature  coef_alpha_0.1_lasso\n",
       "6   900908-close              0.219365\n",
       "4   900905-close              0.172487\n",
       "48  900957-close              0.125663\n",
       "36  900941-close              0.122582\n",
       "16  900918-close              0.109004\n",
       "27  900929-close              0.081991\n",
       "45  900953-close              0.051973\n",
       "41  900947-close              0.050532\n",
       "32  900937-close              0.036738\n",
       "9   900911-close              0.014385\n",
       "24  900926-close              0.013173\n",
       "22  900924-close              0.008708\n",
       "2   900903-close              0.007984\n",
       "11  900913-close              0.000000\n",
       "39  900945-close              0.000000"
      ]
     },
     "execution_count": 35,
     "metadata": {},
     "output_type": "execute_result"
    }
   ],
   "source": [
    "coef5 = model5.coef_\n",
    "reg5 = pd.DataFrame(list(zip(features,coef5)), columns=['feature','coef_alpha_0.1_lasso'])\n",
    "reg5 = reg5.sort_values(by = 'coef_alpha_0.1_lasso', ascending=False)\n",
    "reg5.head(15)"
   ]
  },
  {
   "cell_type": "code",
   "execution_count": 36,
   "metadata": {},
   "outputs": [
    {
     "data": {
      "text/html": [
       "<div>\n",
       "<style scoped>\n",
       "    .dataframe tbody tr th:only-of-type {\n",
       "        vertical-align: middle;\n",
       "    }\n",
       "\n",
       "    .dataframe tbody tr th {\n",
       "        vertical-align: top;\n",
       "    }\n",
       "\n",
       "    .dataframe thead th {\n",
       "        text-align: right;\n",
       "    }\n",
       "</style>\n",
       "<table border=\"1\" class=\"dataframe\">\n",
       "  <thead>\n",
       "    <tr style=\"text-align: right;\">\n",
       "      <th></th>\n",
       "      <th>ticker</th>\n",
       "      <th>name_b</th>\n",
       "      <th>company_name_en</th>\n",
       "    </tr>\n",
       "  </thead>\n",
       "  <tbody>\n",
       "    <tr>\n",
       "      <td>2</td>\n",
       "      <td>900903</td>\n",
       "      <td>大众B股</td>\n",
       "      <td>Dazhong Transportion Group</td>\n",
       "    </tr>\n",
       "    <tr>\n",
       "      <td>4</td>\n",
       "      <td>900905</td>\n",
       "      <td>老凤祥B</td>\n",
       "      <td>Lao Feng Xiang</td>\n",
       "    </tr>\n",
       "    <tr>\n",
       "      <td>6</td>\n",
       "      <td>900908</td>\n",
       "      <td>氯碱B股</td>\n",
       "      <td>Shanghai Chlor-Alkali Chemical</td>\n",
       "    </tr>\n",
       "    <tr>\n",
       "      <td>9</td>\n",
       "      <td>900911</td>\n",
       "      <td>金桥B股</td>\n",
       "      <td>Shanghai Jinqiao Development</td>\n",
       "    </tr>\n",
       "    <tr>\n",
       "      <td>16</td>\n",
       "      <td>900918</td>\n",
       "      <td>耀皮B股</td>\n",
       "      <td>SYP Glass Group</td>\n",
       "    </tr>\n",
       "    <tr>\n",
       "      <td>22</td>\n",
       "      <td>900924</td>\n",
       "      <td>上工B股</td>\n",
       "      <td>Shang Gong Group</td>\n",
       "    </tr>\n",
       "    <tr>\n",
       "      <td>24</td>\n",
       "      <td>900926</td>\n",
       "      <td>宝信B</td>\n",
       "      <td>Shanghai Baosight Software</td>\n",
       "    </tr>\n",
       "    <tr>\n",
       "      <td>27</td>\n",
       "      <td>900929</td>\n",
       "      <td>锦旅B股</td>\n",
       "      <td>Shanghai Jinjiang Travel</td>\n",
       "    </tr>\n",
       "    <tr>\n",
       "      <td>32</td>\n",
       "      <td>900937</td>\n",
       "      <td>华电B股</td>\n",
       "      <td>Huadian Energy</td>\n",
       "    </tr>\n",
       "    <tr>\n",
       "      <td>36</td>\n",
       "      <td>900941</td>\n",
       "      <td>东信B股</td>\n",
       "      <td>Eastern Communications</td>\n",
       "    </tr>\n",
       "    <tr>\n",
       "      <td>41</td>\n",
       "      <td>900947</td>\n",
       "      <td>振华B股</td>\n",
       "      <td>Shanghai Zhenhua Heavy Industries</td>\n",
       "    </tr>\n",
       "    <tr>\n",
       "      <td>45</td>\n",
       "      <td>900953</td>\n",
       "      <td>凯马B</td>\n",
       "      <td>Kama Co</td>\n",
       "    </tr>\n",
       "    <tr>\n",
       "      <td>48</td>\n",
       "      <td>900957</td>\n",
       "      <td>凌云B股</td>\n",
       "      <td>Shanghai Lingyun Industries</td>\n",
       "    </tr>\n",
       "  </tbody>\n",
       "</table>\n",
       "</div>"
      ],
      "text/plain": [
       "    ticker name_b                    company_name_en\n",
       "2   900903   大众B股         Dazhong Transportion Group\n",
       "4   900905   老凤祥B                     Lao Feng Xiang\n",
       "6   900908   氯碱B股     Shanghai Chlor-Alkali Chemical\n",
       "9   900911   金桥B股       Shanghai Jinqiao Development\n",
       "16  900918   耀皮B股                    SYP Glass Group\n",
       "22  900924   上工B股                   Shang Gong Group\n",
       "24  900926    宝信B         Shanghai Baosight Software\n",
       "27  900929   锦旅B股           Shanghai Jinjiang Travel\n",
       "32  900937   华电B股                     Huadian Energy\n",
       "36  900941   东信B股             Eastern Communications\n",
       "41  900947   振华B股  Shanghai Zhenhua Heavy Industries\n",
       "45  900953    凯马B                            Kama Co\n",
       "48  900957   凌云B股        Shanghai Lingyun Industries"
      ]
     },
     "execution_count": 36,
     "metadata": {},
     "output_type": "execute_result"
    }
   ],
   "source": [
    "## Most heavily weighted stocks in index construction with standardized data using sklearn.Lasso() with alpha = 0.1. \n",
    "raw_data2[raw_data2.ticker.isin([900908, 900905, 900957, 900941, 900918, 900929, 900953, 900947, 900937, 900911, 900926, 900924, 900903])][['ticker','name_b','company_name_en']]"
   ]
  },
  {
   "cell_type": "code",
   "execution_count": 38,
   "metadata": {},
   "outputs": [
    {
     "data": {
      "image/png": "[encoded data removed]",
      "text/plain": [
       "<Figure size 432x288 with 1 Axes>"
      ]
     },
     "metadata": {
      "needs_background": "light"
     },
     "output_type": "display_data"
    }
   ],
   "source": [
    "# We have found an acceptable model that yields fairly accurate results from a universe of only 13 stocks, with L1-norm set at 0.1. \n",
    "draw_prediction_graph(preds5)"
   ]
  },
  {
   "cell_type": "markdown",
   "metadata": {},
   "source": [
    "### Index Replication Model Formulation\n",
    "\n",
    "To build a index construction model, we take the 13 component stocks and generate a new pivot table when their daily closing price as the only predictors. We use all the data for the xgb.DMatrix.  "
   ]
  },
  {
   "cell_type": "code",
   "execution_count": 39,
   "metadata": {},
   "outputs": [],
   "source": [
    "index_components = [900908, 900905, 900957, 900941, 900918, 900929, 900953, 900947, 900937, 900911, 900926, 900924, 900903]"
   ]
  },
  {
   "cell_type": "code",
   "execution_count": 40,
   "metadata": {},
   "outputs": [],
   "source": [
    "df = df[df.ticker.isin(index_components)]"
   ]
  },
  {
   "cell_type": "code",
   "execution_count": 41,
   "metadata": {},
   "outputs": [],
   "source": [
    "df2 = create_pivot_table(df)\n",
    "df3 = df2.merge(ix, on='date')\n",
    "df3.set_index('date', inplace=True)"
   ]
  },
  {
   "cell_type": "code",
   "execution_count": 42,
   "metadata": {},
   "outputs": [],
   "source": [
    "# Preparing the data for XGBoost\n",
    "X = df3.iloc[:,:-1]\n",
    "y = np.ravel(df3.iloc[:,-1])\n",
    "\n",
    "# Resolving infinity and None values\n",
    "X.replace(np.inf, np.nan, inplace=True)\n",
    "X.fillna(0, inplace=True)"
   ]
  },
  {
   "cell_type": "code",
   "execution_count": 43,
   "metadata": {},
   "outputs": [
    {
     "data": {
      "text/html": [
       "<div>\n",
       "<style scoped>\n",
       "    .dataframe tbody tr th:only-of-type {\n",
       "        vertical-align: middle;\n",
       "    }\n",
       "\n",
       "    .dataframe tbody tr th {\n",
       "        vertical-align: top;\n",
       "    }\n",
       "\n",
       "    .dataframe thead th {\n",
       "        text-align: right;\n",
       "    }\n",
       "</style>\n",
       "<table border=\"1\" class=\"dataframe\">\n",
       "  <thead>\n",
       "    <tr style=\"text-align: right;\">\n",
       "      <th></th>\n",
       "      <th>900903-close</th>\n",
       "      <th>900905-close</th>\n",
       "      <th>900908-close</th>\n",
       "      <th>900911-close</th>\n",
       "      <th>900918-close</th>\n",
       "      <th>900924-close</th>\n",
       "      <th>900926-close</th>\n",
       "      <th>900929-close</th>\n",
       "      <th>900937-close</th>\n",
       "      <th>900941-close</th>\n",
       "      <th>900947-close</th>\n",
       "      <th>900953-close</th>\n",
       "      <th>900957-close</th>\n",
       "    </tr>\n",
       "    <tr>\n",
       "      <th>date</th>\n",
       "      <th></th>\n",
       "      <th></th>\n",
       "      <th></th>\n",
       "      <th></th>\n",
       "      <th></th>\n",
       "      <th></th>\n",
       "      <th></th>\n",
       "      <th></th>\n",
       "      <th></th>\n",
       "      <th></th>\n",
       "      <th></th>\n",
       "      <th></th>\n",
       "      <th></th>\n",
       "    </tr>\n",
       "  </thead>\n",
       "  <tbody>\n",
       "    <tr>\n",
       "      <td>2010-01-04</td>\n",
       "      <td>0.816</td>\n",
       "      <td>1.915</td>\n",
       "      <td>0.458</td>\n",
       "      <td>1.008</td>\n",
       "      <td>0.537</td>\n",
       "      <td>0.521</td>\n",
       "      <td>1.907</td>\n",
       "      <td>1.837</td>\n",
       "      <td>0.394</td>\n",
       "      <td>0.452</td>\n",
       "      <td>0.838</td>\n",
       "      <td>0.719</td>\n",
       "      <td>0.546</td>\n",
       "    </tr>\n",
       "    <tr>\n",
       "      <td>2010-01-05</td>\n",
       "      <td>0.833</td>\n",
       "      <td>1.932</td>\n",
       "      <td>0.460</td>\n",
       "      <td>1.000</td>\n",
       "      <td>0.542</td>\n",
       "      <td>0.524</td>\n",
       "      <td>1.934</td>\n",
       "      <td>1.862</td>\n",
       "      <td>0.397</td>\n",
       "      <td>0.459</td>\n",
       "      <td>0.840</td>\n",
       "      <td>0.739</td>\n",
       "      <td>0.542</td>\n",
       "    </tr>\n",
       "    <tr>\n",
       "      <td>2010-01-06</td>\n",
       "      <td>0.824</td>\n",
       "      <td>1.918</td>\n",
       "      <td>0.460</td>\n",
       "      <td>1.001</td>\n",
       "      <td>0.537</td>\n",
       "      <td>0.517</td>\n",
       "      <td>1.924</td>\n",
       "      <td>1.841</td>\n",
       "      <td>0.396</td>\n",
       "      <td>0.465</td>\n",
       "      <td>0.839</td>\n",
       "      <td>0.754</td>\n",
       "      <td>0.546</td>\n",
       "    </tr>\n",
       "    <tr>\n",
       "      <td>2010-01-07</td>\n",
       "      <td>0.816</td>\n",
       "      <td>1.888</td>\n",
       "      <td>0.450</td>\n",
       "      <td>0.990</td>\n",
       "      <td>0.527</td>\n",
       "      <td>0.511</td>\n",
       "      <td>1.885</td>\n",
       "      <td>1.849</td>\n",
       "      <td>0.389</td>\n",
       "      <td>0.452</td>\n",
       "      <td>0.822</td>\n",
       "      <td>0.745</td>\n",
       "      <td>0.528</td>\n",
       "    </tr>\n",
       "    <tr>\n",
       "      <td>2010-01-08</td>\n",
       "      <td>0.831</td>\n",
       "      <td>1.890</td>\n",
       "      <td>0.451</td>\n",
       "      <td>1.017</td>\n",
       "      <td>0.528</td>\n",
       "      <td>0.515</td>\n",
       "      <td>1.897</td>\n",
       "      <td>1.892</td>\n",
       "      <td>0.392</td>\n",
       "      <td>0.000</td>\n",
       "      <td>0.828</td>\n",
       "      <td>0.750</td>\n",
       "      <td>0.528</td>\n",
       "    </tr>\n",
       "  </tbody>\n",
       "</table>\n",
       "</div>"
      ],
      "text/plain": [
       "            900903-close  900905-close  900908-close  900911-close  \\\n",
       "date                                                                 \n",
       "2010-01-04         0.816         1.915         0.458         1.008   \n",
       "2010-01-05         0.833         1.932         0.460         1.000   \n",
       "2010-01-06         0.824         1.918         0.460         1.001   \n",
       "2010-01-07         0.816         1.888         0.450         0.990   \n",
       "2010-01-08         0.831         1.890         0.451         1.017   \n",
       "\n",
       "            900918-close  900924-close  900926-close  900929-close  \\\n",
       "date                                                                 \n",
       "2010-01-04         0.537         0.521         1.907         1.837   \n",
       "2010-01-05         0.542         0.524         1.934         1.862   \n",
       "2010-01-06         0.537         0.517         1.924         1.841   \n",
       "2010-01-07         0.527         0.511         1.885         1.849   \n",
       "2010-01-08         0.528         0.515         1.897         1.892   \n",
       "\n",
       "            900937-close  900941-close  900947-close  900953-close  \\\n",
       "date                                                                 \n",
       "2010-01-04         0.394         0.452         0.838         0.719   \n",
       "2010-01-05         0.397         0.459         0.840         0.739   \n",
       "2010-01-06         0.396         0.465         0.839         0.754   \n",
       "2010-01-07         0.389         0.452         0.822         0.745   \n",
       "2010-01-08         0.392         0.000         0.828         0.750   \n",
       "\n",
       "            900957-close  \n",
       "date                      \n",
       "2010-01-04         0.546  \n",
       "2010-01-05         0.542  \n",
       "2010-01-06         0.546  \n",
       "2010-01-07         0.528  \n",
       "2010-01-08         0.528  "
      ]
     },
     "execution_count": 43,
     "metadata": {},
     "output_type": "execute_result"
    }
   ],
   "source": [
    "X.head()"
   ]
  },
  {
   "cell_type": "code",
   "execution_count": 44,
   "metadata": {},
   "outputs": [
    {
     "name": "stdout",
     "output_type": "stream",
     "text": [
      "RMSE: 25.05806\n"
     ]
    }
   ],
   "source": [
    "# We achieve RMSE of 25 with the parsimonious model and 13 estimators. \n",
    "dmatrix = xgb.DMatrix(data=X, label=y)\n",
    "model_final = xgb.XGBRegressor(dtrain=dmatrix, booster='gblinear', n_estimators=13, reg_alpha=0.1, objective=\"reg:squarederror\")\n",
    "model_final.fit(X, y)\n",
    "preds_final = model_final.predict(X)\n",
    "mse_final = mean_squared_error(preds_final, y)\n",
    "print(\"RMSE: %.5f\" % (np.sqrt(np.abs(mse_final))))"
   ]
  },
  {
   "cell_type": "code",
   "execution_count": 49,
   "metadata": {},
   "outputs": [],
   "source": [
    "# Converting the DMatrix feauture names into a Series of integers for dataframe merging\n",
    "stock = dmatrix.feature_names\n",
    "tickers = [re.findall(r'\\d+', s) for s in stock]\n",
    "tickers_flattened = [val for sublist in tickers for val in sublist]\n",
    "tickers = list(map(int, tickers_flattened))"
   ]
  },
  {
   "cell_type": "code",
   "execution_count": 50,
   "metadata": {},
   "outputs": [
    {
     "data": {
      "text/html": [
       "<div>\n",
       "<style scoped>\n",
       "    .dataframe tbody tr th:only-of-type {\n",
       "        vertical-align: middle;\n",
       "    }\n",
       "\n",
       "    .dataframe tbody tr th {\n",
       "        vertical-align: top;\n",
       "    }\n",
       "\n",
       "    .dataframe thead th {\n",
       "        text-align: right;\n",
       "    }\n",
       "</style>\n",
       "<table border=\"1\" class=\"dataframe\">\n",
       "  <thead>\n",
       "    <tr style=\"text-align: right;\">\n",
       "      <th></th>\n",
       "      <th>ticker</th>\n",
       "      <th>coef</th>\n",
       "    </tr>\n",
       "  </thead>\n",
       "  <tbody>\n",
       "    <tr>\n",
       "      <td>3</td>\n",
       "      <td>900911</td>\n",
       "      <td>18.49040</td>\n",
       "    </tr>\n",
       "    <tr>\n",
       "      <td>1</td>\n",
       "      <td>900905</td>\n",
       "      <td>17.13490</td>\n",
       "    </tr>\n",
       "    <tr>\n",
       "      <td>0</td>\n",
       "      <td>900903</td>\n",
       "      <td>15.54680</td>\n",
       "    </tr>\n",
       "    <tr>\n",
       "      <td>6</td>\n",
       "      <td>900926</td>\n",
       "      <td>15.26220</td>\n",
       "    </tr>\n",
       "    <tr>\n",
       "      <td>7</td>\n",
       "      <td>900929</td>\n",
       "      <td>14.20140</td>\n",
       "    </tr>\n",
       "    <tr>\n",
       "      <td>2</td>\n",
       "      <td>900908</td>\n",
       "      <td>13.78250</td>\n",
       "    </tr>\n",
       "    <tr>\n",
       "      <td>5</td>\n",
       "      <td>900924</td>\n",
       "      <td>13.54960</td>\n",
       "    </tr>\n",
       "    <tr>\n",
       "      <td>4</td>\n",
       "      <td>900918</td>\n",
       "      <td>12.89670</td>\n",
       "    </tr>\n",
       "    <tr>\n",
       "      <td>12</td>\n",
       "      <td>900957</td>\n",
       "      <td>12.31600</td>\n",
       "    </tr>\n",
       "    <tr>\n",
       "      <td>11</td>\n",
       "      <td>900953</td>\n",
       "      <td>12.12020</td>\n",
       "    </tr>\n",
       "    <tr>\n",
       "      <td>9</td>\n",
       "      <td>900941</td>\n",
       "      <td>10.42380</td>\n",
       "    </tr>\n",
       "    <tr>\n",
       "      <td>10</td>\n",
       "      <td>900947</td>\n",
       "      <td>9.49182</td>\n",
       "    </tr>\n",
       "    <tr>\n",
       "      <td>8</td>\n",
       "      <td>900937</td>\n",
       "      <td>6.89774</td>\n",
       "    </tr>\n",
       "  </tbody>\n",
       "</table>\n",
       "</div>"
      ],
      "text/plain": [
       "    ticker      coef\n",
       "3   900911  18.49040\n",
       "1   900905  17.13490\n",
       "0   900903  15.54680\n",
       "6   900926  15.26220\n",
       "7   900929  14.20140\n",
       "2   900908  13.78250\n",
       "5   900924  13.54960\n",
       "4   900918  12.89670\n",
       "12  900957  12.31600\n",
       "11  900953  12.12020\n",
       "9   900941  10.42380\n",
       "10  900947   9.49182\n",
       "8   900937   6.89774"
      ]
     },
     "execution_count": 50,
     "metadata": {},
     "output_type": "execute_result"
    }
   ],
   "source": [
    "coef_final = model_final.coef_\n",
    "reg_final = pd.DataFrame(list(zip(tickers,coef_final)), columns=['ticker','coef'])\n",
    "reg_final = reg_final.sort_values(by = 'coef', ascending=False)\n",
    "reg_final"
   ]
  },
  {
   "cell_type": "code",
   "execution_count": 51,
   "metadata": {},
   "outputs": [
    {
     "data": {
      "text/plain": [
       "array([75.951])"
      ]
     },
     "execution_count": 51,
     "metadata": {},
     "output_type": "execute_result"
    }
   ],
   "source": [
    "model_final.intercept_"
   ]
  },
  {
   "cell_type": "markdown",
   "metadata": {},
   "source": [
    "### Index Replication Model\n",
    "\n",
    "Index = \n",
    "        75.95 \n",
    "            + price 金桥B股(900911) * 18.49\n",
    "            + price 老凤祥B(900905) * 17.13\n",
    "            + price 大众B股(900903) * 15.55\n",
    "            + price 宝信B  (900926) * 15.26\n",
    "            + price 锦旅B股(900929) * 14.20\n",
    "            + price 氯碱B股(900908) * 13.78\n",
    "            + price 上工B股(900924) * 13.54\n",
    "            + price 耀皮B股(900918) * 12.90\n",
    "            + price 凌云B股(900957) * 12.32\n",
    "            + price 凯马B  (900953) * 12.12\n",
    "            + price 东信B股(900941) * 10.42\n",
    "            + price 振华B股(900947) * 9.49\n",
    "            + price 华电B股(900937) * 6.90\n"
   ]
  },
  {
   "cell_type": "code",
   "execution_count": 52,
   "metadata": {},
   "outputs": [
    {
     "data": {
      "text/html": [
       "<div>\n",
       "<style scoped>\n",
       "    .dataframe tbody tr th:only-of-type {\n",
       "        vertical-align: middle;\n",
       "    }\n",
       "\n",
       "    .dataframe tbody tr th {\n",
       "        vertical-align: top;\n",
       "    }\n",
       "\n",
       "    .dataframe thead th {\n",
       "        text-align: right;\n",
       "    }\n",
       "</style>\n",
       "<table border=\"1\" class=\"dataframe\">\n",
       "  <thead>\n",
       "    <tr style=\"text-align: right;\">\n",
       "      <th></th>\n",
       "      <th>date</th>\n",
       "      <th>ticker</th>\n",
       "      <th>close</th>\n",
       "      <th>coef</th>\n",
       "      <th>index_replicated</th>\n",
       "    </tr>\n",
       "  </thead>\n",
       "  <tbody>\n",
       "    <tr>\n",
       "      <td>38539</td>\n",
       "      <td>2019-11-25</td>\n",
       "      <td>900957</td>\n",
       "      <td>0.560</td>\n",
       "      <td>12.316</td>\n",
       "      <td>6.896960</td>\n",
       "    </tr>\n",
       "    <tr>\n",
       "      <td>38540</td>\n",
       "      <td>2019-11-26</td>\n",
       "      <td>900957</td>\n",
       "      <td>0.539</td>\n",
       "      <td>12.316</td>\n",
       "      <td>6.638324</td>\n",
       "    </tr>\n",
       "    <tr>\n",
       "      <td>38541</td>\n",
       "      <td>2019-11-27</td>\n",
       "      <td>900957</td>\n",
       "      <td>0.548</td>\n",
       "      <td>12.316</td>\n",
       "      <td>6.749168</td>\n",
       "    </tr>\n",
       "    <tr>\n",
       "      <td>38542</td>\n",
       "      <td>2019-11-28</td>\n",
       "      <td>900957</td>\n",
       "      <td>0.543</td>\n",
       "      <td>12.316</td>\n",
       "      <td>6.687588</td>\n",
       "    </tr>\n",
       "    <tr>\n",
       "      <td>38543</td>\n",
       "      <td>2019-11-29</td>\n",
       "      <td>900957</td>\n",
       "      <td>0.530</td>\n",
       "      <td>12.316</td>\n",
       "      <td>6.527480</td>\n",
       "    </tr>\n",
       "  </tbody>\n",
       "</table>\n",
       "</div>"
      ],
      "text/plain": [
       "             date  ticker  close    coef  index_replicated\n",
       "38539  2019-11-25  900957  0.560  12.316          6.896960\n",
       "38540  2019-11-26  900957  0.539  12.316          6.638324\n",
       "38541  2019-11-27  900957  0.548  12.316          6.749168\n",
       "38542  2019-11-28  900957  0.543  12.316          6.687588\n",
       "38543  2019-11-29  900957  0.530  12.316          6.527480"
      ]
     },
     "execution_count": 52,
     "metadata": {},
     "output_type": "execute_result"
    }
   ],
   "source": [
    "df_final = df.merge(reg_final, on='ticker')\n",
    "df_final = df_final.assign(index_replicated = df_final['close'].mul(df_final['coef']))\n",
    "df_final.tail()"
   ]
  },
  {
   "cell_type": "code",
   "execution_count": 55,
   "metadata": {},
   "outputs": [
    {
     "data": {
      "text/html": [
       "<div>\n",
       "<style scoped>\n",
       "    .dataframe tbody tr th:only-of-type {\n",
       "        vertical-align: middle;\n",
       "    }\n",
       "\n",
       "    .dataframe tbody tr th {\n",
       "        vertical-align: top;\n",
       "    }\n",
       "\n",
       "    .dataframe thead th {\n",
       "        text-align: right;\n",
       "    }\n",
       "</style>\n",
       "<table border=\"1\" class=\"dataframe\">\n",
       "  <thead>\n",
       "    <tr style=\"text-align: right;\">\n",
       "      <th></th>\n",
       "      <th>date</th>\n",
       "      <th>index_replicated</th>\n",
       "      <th>close</th>\n",
       "    </tr>\n",
       "  </thead>\n",
       "  <tbody>\n",
       "    <tr>\n",
       "      <td>0</td>\n",
       "      <td>2010-01-04</td>\n",
       "      <td>287.927391</td>\n",
       "      <td>252.026</td>\n",
       "    </tr>\n",
       "    <tr>\n",
       "      <td>1</td>\n",
       "      <td>2010-01-05</td>\n",
       "      <td>290.088827</td>\n",
       "      <td>255.397</td>\n",
       "    </tr>\n",
       "    <tr>\n",
       "      <td>2</td>\n",
       "      <td>2010-01-06</td>\n",
       "      <td>289.327383</td>\n",
       "      <td>254.659</td>\n",
       "    </tr>\n",
       "    <tr>\n",
       "      <td>3</td>\n",
       "      <td>2010-01-07</td>\n",
       "      <td>286.762780</td>\n",
       "      <td>250.791</td>\n",
       "    </tr>\n",
       "    <tr>\n",
       "      <td>4</td>\n",
       "      <td>2010-01-08</td>\n",
       "      <td>284.502126</td>\n",
       "      <td>253.748</td>\n",
       "    </tr>\n",
       "  </tbody>\n",
       "</table>\n",
       "</div>"
      ],
      "text/plain": [
       "         date  index_replicated    close\n",
       "0  2010-01-04        287.927391  252.026\n",
       "1  2010-01-05        290.088827  255.397\n",
       "2  2010-01-06        289.327383  254.659\n",
       "3  2010-01-07        286.762780  250.791\n",
       "4  2010-01-08        284.502126  253.748"
      ]
     },
     "execution_count": 55,
     "metadata": {},
     "output_type": "execute_result"
    }
   ],
   "source": [
    "daily = df_final.groupby('date')['index_replicated'].sum().add(75.95).to_frame()\n",
    "daily = daily.merge(ix, on='date') # Merging with actual index values\n",
    "daily.head()"
   ]
  },
  {
   "cell_type": "code",
   "execution_count": 56,
   "metadata": {},
   "outputs": [
    {
     "data": {
      "image/png": "[encoded data removed]",
      "text/plain": [
       "<Figure size 432x288 with 1 Axes>"
      ]
     },
     "metadata": {
      "needs_background": "light"
     },
     "output_type": "display_data"
    }
   ],
   "source": [
    "fig, ax = plt.subplots()\n",
    "ax.scatter(daily['close'], daily['index_replicated'])\n",
    "ax.plot([daily['index_replicated'].min(), daily['index_replicated'].max()], [daily['index_replicated'].min(), daily['index_replicated'].max()], 'k--', lw=4)\n",
    "ax.set_xlabel('Actual')\n",
    "ax.set_ylabel('Predicted')\n",
    "ax.set_title(\"Ground Truth vs Predicted\")\n",
    "plt.show()"
   ]
  },
  {
   "cell_type": "markdown",
   "metadata": {},
   "source": [
    "We observe a severe upward bias in our model, suggesting that a uniform set of index conponents is not suitable over the ten-year period of data, and that some periodic index-recalibration methodology is needed. As a further study, the author proposes to map the changes in regression coefficients over a rolling year-long window.  "
   ]
  },
  {
   "cell_type": "markdown",
   "metadata": {},
   "source": [
    "### Conclusions:\n",
    "\n",
    "(1) Two L1-Regularized Regression Models (XGBRegressor (alpha=0.8) and sklearn.linear_model.Lasso) lead to unexpected feature selection of the component stocks of a market-capitalization/ floating-shares-weighted market index. Several of the selected stocks rank low in terms of both market cap and float. This suggests that stock-price/ index-value correlation may be influencing the model weighting. \n",
    "\n",
    "(2) XGBRegressor L1-Regularization with alpha values close to 1.0 does not lead to sparcification of the predictor-space as it does with sklearn Lasso regression. \n",
    "\n",
    "(3) Lasso regression with a high L1-norm penalty leads to very poor predictivity under StandardScaling. \n",
    "\n",
    "(4) Extracting regression coefficients with XGBRegressor from a subset of features derived from Lasso regression leads to upward model prediction bias in this experiment. "
   ]
  },
  {
   "cell_type": "markdown",
   "metadata": {},
   "source": [
    "### Sources\n",
    "\n",
    "http://quotes.money.163.com\n",
    "https://xgboost-clone.readthedocs.io/en/latest/parameter.html#learning-task-parameters\n",
    "https://www.datacamp.com/courses/extreme-gradient-boosting-with-xgboost\n",
    "https://machinelearningmastery.com/prepare-data-machine-learning-python-scikit-learn/\n",
    "https://machinelearningmastery.com/gentle-introduction-xgboost-applied-machine-learning/\n"
   ]
  }
 ],
 "metadata": {
  "kernelspec": {
   "display_name": "Python 3",
   "language": "python",
   "name": "python3"
  },
  "language_info": {
   "codemirror_mode": {
    "name": "ipython",
    "version": 3
   },
   "file_extension": ".py",
   "mimetype": "text/x-python",
   "name": "python",
   "nbconvert_exporter": "python",
   "pygments_lexer": "ipython3",
   "version": "3.7.4"
  }
 },
 "nbformat": 4,
 "nbformat_minor": 2
}
